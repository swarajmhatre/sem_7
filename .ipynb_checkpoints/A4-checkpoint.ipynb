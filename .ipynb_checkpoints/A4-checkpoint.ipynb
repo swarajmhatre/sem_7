{
 "cells": [
  {
   "cell_type": "code",
   "execution_count": 2,
   "id": "99a5731a",
   "metadata": {},
   "outputs": [],
   "source": [
    "import matplotlib as pyplot\n",
    "import pandas as pd \n",
    "import sympy as sym\n",
    "import numpy as np "
   ]
  },
  {
   "cell_type": "code",
   "execution_count": 3,
   "id": "c5190df3",
   "metadata": {},
   "outputs": [],
   "source": [
    "def objective(x):\n",
    "    return (x+3)**2"
   ]
  },
  {
   "cell_type": "code",
   "execution_count": 5,
   "id": "db38764b",
   "metadata": {},
   "outputs": [],
   "source": [
    "def derivative(x):\n",
    "    return 2*(x+3)"
   ]
  },
  {
   "cell_type": "code",
   "execution_count": 12,
   "id": "c8912fba",
   "metadata": {},
   "outputs": [],
   "source": [
    "def gradient_decent(alpha_step,start, max_iter):\n",
    "    x_list = list()\n",
    "    x = start\n",
    "    x_list.append(x)\n",
    "    for i in range(max_iter):\n",
    "        gradient = derivative(x)\n",
    "        x = x - (alpha_step*gradient)\n",
    "        x_list.append(x)\n",
    "    return x_list"
   ]
  },
  {
   "cell_type": "code",
   "execution_count": 13,
   "id": "2d9148ab",
   "metadata": {},
   "outputs": [],
   "source": [
    "start = 2\n",
    "max_iter =30\n",
    "alpha_step = 0.1"
   ]
  },
  {
   "cell_type": "code",
   "execution_count": 14,
   "id": "11fc90f4",
   "metadata": {},
   "outputs": [],
   "source": [
    "x = gradient_decent(alpha_step, start, max_iter)"
   ]
  },
  {
   "cell_type": "code",
   "execution_count": 15,
   "id": "f24f36e3",
   "metadata": {},
   "outputs": [
    {
     "data": {
      "text/plain": [
       "[2,\n",
       " 1.0,\n",
       " 0.19999999999999996,\n",
       " -0.44000000000000017,\n",
       " -0.9520000000000001,\n",
       " -1.3616000000000001,\n",
       " -1.6892800000000001,\n",
       " -1.951424,\n",
       " -2.1611392,\n",
       " -2.32891136,\n",
       " -2.463129088,\n",
       " -2.5705032704,\n",
       " -2.6564026163200003,\n",
       " -2.725122093056,\n",
       " -2.7800976744448,\n",
       " -2.82407813955584,\n",
       " -2.8592625116446717,\n",
       " -2.8874100093157375,\n",
       " -2.90992800745259,\n",
       " -2.927942405962072,\n",
       " -2.9423539247696575,\n",
       " -2.953883139815726,\n",
       " -2.9631065118525806,\n",
       " -2.9704852094820646,\n",
       " -2.9763881675856516,\n",
       " -2.981110534068521,\n",
       " -2.984888427254817,\n",
       " -2.9879107418038537,\n",
       " -2.990328593443083,\n",
       " -2.9922628747544664,\n",
       " -2.993810299803573]"
      ]
     },
     "execution_count": 15,
     "metadata": {},
     "output_type": "execute_result"
    }
   ],
   "source": [
    "x"
   ]
  },
  {
   "cell_type": "code",
   "execution_count": 17,
   "id": "a651daac",
   "metadata": {},
   "outputs": [
    {
     "ename": "AttributeError",
     "evalue": "module 'matplotlib' has no attribute 'plot'",
     "output_type": "error",
     "traceback": [
      "\u001b[1;31m---------------------------------------------------------------------------\u001b[0m",
      "\u001b[1;31mAttributeError\u001b[0m                            Traceback (most recent call last)",
      "Cell \u001b[1;32mIn[17], line 2\u001b[0m\n\u001b[0;32m      1\u001b[0m x_cordinate \u001b[38;5;241m=\u001b[39m np\u001b[38;5;241m.\u001b[39mlinspace(\u001b[38;5;241m-\u001b[39m\u001b[38;5;241m5\u001b[39m,\u001b[38;5;241m5\u001b[39m,\u001b[38;5;241m100\u001b[39m)\n\u001b[1;32m----> 2\u001b[0m \u001b[43mpyplot\u001b[49m\u001b[38;5;241;43m.\u001b[39;49m\u001b[43mplot\u001b[49m(x_cordinate, objective(x_cordinate))\n",
      "File \u001b[1;32m~\\AppData\\Local\\Programs\\Python\\Python311\\Lib\\site-packages\\matplotlib\\_api\\__init__.py:226\u001b[0m, in \u001b[0;36mcaching_module_getattr.<locals>.__getattr__\u001b[1;34m(name)\u001b[0m\n\u001b[0;32m    224\u001b[0m \u001b[38;5;28;01mif\u001b[39;00m name \u001b[38;5;129;01min\u001b[39;00m props:\n\u001b[0;32m    225\u001b[0m     \u001b[38;5;28;01mreturn\u001b[39;00m props[name]\u001b[38;5;241m.\u001b[39m\u001b[38;5;21m__get__\u001b[39m(instance)\n\u001b[1;32m--> 226\u001b[0m \u001b[38;5;28;01mraise\u001b[39;00m \u001b[38;5;167;01mAttributeError\u001b[39;00m(\n\u001b[0;32m    227\u001b[0m     \u001b[38;5;124mf\u001b[39m\u001b[38;5;124m\"\u001b[39m\u001b[38;5;124mmodule \u001b[39m\u001b[38;5;132;01m{\u001b[39;00m\u001b[38;5;28mcls\u001b[39m\u001b[38;5;241m.\u001b[39m\u001b[38;5;18m__module__\u001b[39m\u001b[38;5;132;01m!r}\u001b[39;00m\u001b[38;5;124m has no attribute \u001b[39m\u001b[38;5;132;01m{\u001b[39;00mname\u001b[38;5;132;01m!r}\u001b[39;00m\u001b[38;5;124m\"\u001b[39m)\n",
      "\u001b[1;31mAttributeError\u001b[0m: module 'matplotlib' has no attribute 'plot'"
     ]
    }
   ],
   "source": [
    "X_arr = np.array(x);\n",
    "x_cordinate = np.linspace(-5,5,100)\n",
    "pyplot.plot(x_cordinate, objective(x_cordinate))\n",
    "pyplot.plot()"
   ]
  },
  {
   "cell_type": "code",
   "execution_count": null,
   "id": "7817f839",
   "metadata": {},
   "outputs": [],
   "source": []
  }
 ],
 "metadata": {
  "kernelspec": {
   "display_name": "Python 3 (ipykernel)",
   "language": "python",
   "name": "python3"
  },
  "language_info": {
   "codemirror_mode": {
    "name": "ipython",
    "version": 3
   },
   "file_extension": ".py",
   "mimetype": "text/x-python",
   "name": "python",
   "nbconvert_exporter": "python",
   "pygments_lexer": "ipython3",
   "version": "3.11.3"
  }
 },
 "nbformat": 4,
 "nbformat_minor": 5
}
